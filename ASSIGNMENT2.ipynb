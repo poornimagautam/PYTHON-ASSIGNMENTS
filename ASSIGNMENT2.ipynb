{
 "cells": [
  {
   "cell_type": "code",
   "execution_count": 1,
   "id": "26208a7d",
   "metadata": {},
   "outputs": [],
   "source": [
    "#QUES1\n",
    "#two values of boolean data types are True and False \n",
    "a=True\n",
    "b=False"
   ]
  },
  {
   "cell_type": "code",
   "execution_count": 2,
   "id": "d614342e",
   "metadata": {},
   "outputs": [
    {
     "data": {
      "text/plain": [
       "'QUES2\\nThree different types of Boolean operators are:\\nAND , OR , NOT\\n'"
      ]
     },
     "execution_count": 2,
     "metadata": {},
     "output_type": "execute_result"
    }
   ],
   "source": [
    "\"\"\"QUES2\n",
    "Three different types of Boolean operators are:\n",
    "AND , OR , NOT\n",
    "\"\"\""
   ]
  },
  {
   "cell_type": "code",
   "execution_count": 4,
   "id": "ca03649b",
   "metadata": {},
   "outputs": [
    {
     "name": "stdout",
     "output_type": "stream",
     "text": [
      "True\n",
      "False\n",
      "False\n",
      "False\n"
     ]
    }
   ],
   "source": [
    "#QUES3\n",
    "a=True\n",
    "b=False\n",
    "#AND : True only when both the conditions are True\n",
    "print(a and a)\n",
    "print(a and b)\n",
    "print(b and a)\n",
    "print(b and b)"
   ]
  },
  {
   "cell_type": "code",
   "execution_count": 5,
   "id": "f434a79c",
   "metadata": {},
   "outputs": [
    {
     "name": "stdout",
     "output_type": "stream",
     "text": [
      "True\n",
      "True\n",
      "True\n",
      "False\n"
     ]
    }
   ],
   "source": [
    "#OR :True when either of the condition is True\n",
    "print(a or a)\n",
    "print(a or b)\n",
    "print(b or a)\n",
    "print(b or b)"
   ]
  },
  {
   "cell_type": "code",
   "execution_count": 6,
   "id": "3261ab41",
   "metadata": {},
   "outputs": [
    {
     "name": "stdout",
     "output_type": "stream",
     "text": [
      "True\n",
      "False\n",
      "True\n",
      "False\n"
     ]
    }
   ],
   "source": [
    "#NOT\n",
    "print(a != b)\n",
    "print(a != a)\n",
    "print(b != a)\n",
    "print(b != b)"
   ]
  },
  {
   "cell_type": "code",
   "execution_count": 14,
   "id": "50d13493",
   "metadata": {},
   "outputs": [
    {
     "data": {
      "text/plain": [
       "'QUES4\\n1) (5>4) and (3==5) since both the conditions are not getting satisfied \\n   output: False\\n2) not(5>4) since the condition is True , not will reverse the condition\\n   output: False\\n3) (5>4) or (3==5) since one condition is getting satisfied\\n   output: True\\n4) not((5>4) or (3==5)) one condition is getting satisfied but not will reverse the output \\n   output: False\\n5) (True and True) and (True==False)\\n   True and True -> True\\n   True==False -> False\\n   True and False -> False\\n   output: False\\n6) (not False) or (not True)\\n   output : True\\nlets verify by checking the code\\n'"
      ]
     },
     "execution_count": 14,
     "metadata": {},
     "output_type": "execute_result"
    }
   ],
   "source": [
    "\"\"\"QUES4\n",
    "1) (5>4) and (3==5) since both the conditions are not getting satisfied \n",
    "   output: False\n",
    "2) not(5>4) since the condition is True , not will reverse the condition\n",
    "   output: False\n",
    "3) (5>4) or (3==5) since one condition is getting satisfied\n",
    "   output: True\n",
    "4) not((5>4) or (3==5)) one condition is getting satisfied but not will reverse the output \n",
    "   output: False\n",
    "5) (True and True) and (True==False)\n",
    "   True and True -> True\n",
    "   True==False -> False\n",
    "   True and False -> False\n",
    "   output: False\n",
    "6) (not False) or (not True)\n",
    "   output : True\n",
    "lets verify by checking the code\n",
    "\"\"\""
   ]
  },
  {
   "cell_type": "code",
   "execution_count": 8,
   "id": "8f28d22c",
   "metadata": {},
   "outputs": [
    {
     "data": {
      "text/plain": [
       "False"
      ]
     },
     "execution_count": 8,
     "metadata": {},
     "output_type": "execute_result"
    }
   ],
   "source": [
    "(5>4) and (3==5)"
   ]
  },
  {
   "cell_type": "code",
   "execution_count": 9,
   "id": "2b1bc487",
   "metadata": {},
   "outputs": [
    {
     "data": {
      "text/plain": [
       "False"
      ]
     },
     "execution_count": 9,
     "metadata": {},
     "output_type": "execute_result"
    }
   ],
   "source": [
    "not(5>4)"
   ]
  },
  {
   "cell_type": "code",
   "execution_count": 10,
   "id": "824a4a99",
   "metadata": {},
   "outputs": [
    {
     "data": {
      "text/plain": [
       "True"
      ]
     },
     "execution_count": 10,
     "metadata": {},
     "output_type": "execute_result"
    }
   ],
   "source": [
    "(5>4) or (3==5)"
   ]
  },
  {
   "cell_type": "code",
   "execution_count": 11,
   "id": "cd4f76bb",
   "metadata": {},
   "outputs": [
    {
     "data": {
      "text/plain": [
       "False"
      ]
     },
     "execution_count": 11,
     "metadata": {},
     "output_type": "execute_result"
    }
   ],
   "source": [
    "not((5>4) or (3==5))"
   ]
  },
  {
   "cell_type": "code",
   "execution_count": 12,
   "id": "bb907ca5",
   "metadata": {},
   "outputs": [
    {
     "data": {
      "text/plain": [
       "False"
      ]
     },
     "execution_count": 12,
     "metadata": {},
     "output_type": "execute_result"
    }
   ],
   "source": [
    "(True and True) and (True==False)"
   ]
  },
  {
   "cell_type": "code",
   "execution_count": 13,
   "id": "932f6113",
   "metadata": {},
   "outputs": [
    {
     "data": {
      "text/plain": [
       "True"
      ]
     },
     "execution_count": 13,
     "metadata": {},
     "output_type": "execute_result"
    }
   ],
   "source": [
    "(not False) or (not True)"
   ]
  },
  {
   "cell_type": "code",
   "execution_count": 15,
   "id": "bf7a0f0d",
   "metadata": {},
   "outputs": [
    {
     "data": {
      "text/plain": [
       "'\\nQUES5\\n== Equal \\n!= Not equal \\n>  Greater than \\n<  Less than \\n>= Greater than or equal to \\n<= Less than or equal to\\n'"
      ]
     },
     "execution_count": 15,
     "metadata": {},
     "output_type": "execute_result"
    }
   ],
   "source": [
    "\"\"\"\n",
    "QUES5\n",
    "== Equal \n",
    "!= Not equal \n",
    ">  Greater than \n",
    "<  Less than \n",
    ">= Greater than or equal to \n",
    "<= Less than or equal to\n",
    "\"\"\""
   ]
  },
  {
   "cell_type": "code",
   "execution_count": 11,
   "id": "afcd3ebb",
   "metadata": {},
   "outputs": [
    {
     "name": "stdout",
     "output_type": "stream",
     "text": [
      "they are not equal\n"
     ]
    }
   ],
   "source": [
    "\"\"\" QUES6\n",
    "The “=” is an assignment operator is used to assign the value on the right to the variable on the left.\n",
    "The ‘==’ operator checks whether the two given operands are equal or not.\n",
    "\n",
    "EXAMPLE\n",
    "\"\"\"\n",
    "a=10 #this assigns value 10 to variable a \n",
    "b=15\n",
    "if a==b:\n",
    "    print(\"they are equal\")\n",
    "else:\n",
    "    print(\"they are not equal\")"
   ]
  },
  {
   "cell_type": "code",
   "execution_count": 12,
   "id": "91b01702",
   "metadata": {},
   "outputs": [
    {
     "name": "stdout",
     "output_type": "stream",
     "text": [
      "ham\n",
      "spam\n",
      "spam\n"
     ]
    }
   ],
   "source": [
    "#QUES7\n",
    "#the correct code is\n",
    "spam=0\n",
    "if spam==10: #indentation was missing\n",
    "    print(\"eggs\")\n",
    "if spam>5:\n",
    "    print(\"bacon\")\n",
    "else:\n",
    "    print(\"ham\")\n",
    "print(\"spam\")\n",
    "print(\"spam\")"
   ]
  },
  {
   "cell_type": "code",
   "execution_count": 13,
   "id": "be00dc7d",
   "metadata": {},
   "outputs": [
    {
     "name": "stdout",
     "output_type": "stream",
     "text": [
      "enter any number22\n",
      "Greetings!\n"
     ]
    }
   ],
   "source": [
    "#QUES8\n",
    "spam=input(\"enter any number\")\n",
    "if spam==1:\n",
    "    print(\"hello\")\n",
    "elif spam==2:\n",
    "    print(\"howdy\")\n",
    "else:\n",
    "    print(\"Greetings!\")"
   ]
  },
  {
   "cell_type": "code",
   "execution_count": 14,
   "id": "0b264c9c",
   "metadata": {},
   "outputs": [],
   "source": [
    "#QUES9\n",
    "#Ctrl + C ."
   ]
  },
  {
   "cell_type": "code",
   "execution_count": 1,
   "id": "90e1d84d",
   "metadata": {},
   "outputs": [
    {
     "name": "stdout",
     "output_type": "stream",
     "text": [
      "0\n",
      "1\n",
      "2\n",
      "3\n",
      "4\n"
     ]
    }
   ],
   "source": [
    "\"\"\"\n",
    "QUES10\n",
    "BREAK:\n",
    "It terminates the current working loop and passes the control to the next statement\n",
    "CONTINUE:\n",
    "it jumps off to the very next condition. But it will continue the execution of the loop statement as per its name. \n",
    "\n",
    "EXAMPLE\n",
    "\"\"\"\n",
    "i=0\n",
    "while(i<10):\n",
    "    if i<5:\n",
    "        print(i)\n",
    "        i+=1\n",
    "        continue\n",
    "    else:\n",
    "        break"
   ]
  },
  {
   "cell_type": "code",
   "execution_count": 16,
   "id": "02af0c57",
   "metadata": {},
   "outputs": [
    {
     "name": "stdout",
     "output_type": "stream",
     "text": [
      "0\n",
      "1\n",
      "2\n",
      "3\n",
      "4\n",
      "5\n",
      "6\n",
      "7\n",
      "8\n",
      "9\n",
      "0\n",
      "1\n",
      "2\n",
      "3\n",
      "4\n",
      "5\n",
      "6\n",
      "7\n",
      "8\n",
      "9\n",
      "0\n",
      "1\n",
      "2\n",
      "3\n",
      "4\n",
      "5\n",
      "6\n",
      "7\n",
      "8\n",
      "9\n"
     ]
    }
   ],
   "source": [
    "#QUES11\n",
    "#all are same , they will print numbers form 0 to 9\n",
    "for i in range(10):\n",
    "    print(i)\n",
    "for i in range(0,10):\n",
    "    print(i)\n",
    "for i in range(0,10,1):\n",
    "    print(i)"
   ]
  },
  {
   "cell_type": "code",
   "execution_count": 20,
   "id": "1d740fc9",
   "metadata": {},
   "outputs": [
    {
     "name": "stdout",
     "output_type": "stream",
     "text": [
      "12345678910/n\n",
      "12345678910"
     ]
    }
   ],
   "source": [
    "#QUES12\n",
    "#FOR LOOP\n",
    "for i in range(1,11):\n",
    "    print(i,end=\"\")\n",
    "print(\"/n\")\n",
    "\n",
    "#WHILE LOOP\n",
    "i=1\n",
    "while(i<=10):\n",
    "    print(i,end=\"\")\n",
    "    i=i+1"
   ]
  },
  {
   "cell_type": "code",
   "execution_count": null,
   "id": "c60e6ad2",
   "metadata": {},
   "outputs": [],
   "source": [
    "#QUES13\n",
    "# import spam\n",
    "# bacon()"
   ]
  }
 ],
 "metadata": {
  "kernelspec": {
   "display_name": "Python 3 (ipykernel)",
   "language": "python",
   "name": "python3"
  },
  "language_info": {
   "codemirror_mode": {
    "name": "ipython",
    "version": 3
   },
   "file_extension": ".py",
   "mimetype": "text/x-python",
   "name": "python",
   "nbconvert_exporter": "python",
   "pygments_lexer": "ipython3",
   "version": "3.9.7"
  }
 },
 "nbformat": 4,
 "nbformat_minor": 5
}
