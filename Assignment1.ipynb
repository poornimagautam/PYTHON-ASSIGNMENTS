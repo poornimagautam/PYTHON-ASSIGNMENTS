{
 "cells": [
  {
   "cell_type": "code",
   "execution_count": 1,
   "id": "fce8bd78",
   "metadata": {},
   "outputs": [],
   "source": [
    "#ques1\n",
    "#VALUES :\"hello\",-87.8,6\n",
    "#EXPRESSION :* , - ,/,+ "
   ]
  },
  {
   "cell_type": "code",
   "execution_count": 2,
   "id": "294882dc",
   "metadata": {},
   "outputs": [],
   "source": [
    "\"\"\"\n",
    "QUES 2\n",
    "VARAIBLES \n",
    "1) varaibles are the names given to the storage unit in python \n",
    "2) Depending on the type of data or info being stored in the variable \n",
    "   we can define data types of that variable.\n",
    "3) Name of the variable can't have spaces and special symbols.\n",
    "4) we can store a string into the variable \n",
    "\n",
    "STRING\n",
    "1) string are the sequence of characters that are enclosed in inverted commas \n",
    "   and are used to store information \n",
    "2) String is a data type\n",
    "3) No such restriction of spaces and special symbols is there in the string.\n",
    "4) String can get stores in a variable and occupy a specific place.\n",
    "\n",
    "EXAMPLE\n",
    "\"\"\"\n",
    "x=10 #here x is a variable that has stored value =10 and data type of x is int\n",
    "\"let us right a string\" #this is a string\n",
    "b=\"this is a string\" #here b is variable that has stores a string inside it\n"
   ]
  },
  {
   "cell_type": "code",
   "execution_count": 4,
   "id": "7cc57c03",
   "metadata": {},
   "outputs": [],
   "source": [
    "\"\"\"\n",
    "DATA TYPES: Based upon the kind of information a variable stores and the operation that can be performed on it , we can divide\n",
    "variables into different data types\n",
    "\n",
    "In python we have following data types:\n",
    "1) Numeric :This data type stores numeric value and it can further be divided into :\n",
    "               i)int : when the integer value is stores in the variable, data type is int\n",
    "               ii) float: when the value stored is not an integer but floating number i.e value is in decimals\n",
    "               iii)complex : when complex number is being stored in the variable\n",
    "2) Sequence: Sequence data type basically includes :\n",
    "                i) string: it is the sequence of char that is used to store information\n",
    "                ii) list: it is mutable data type that can store any number of values of any data type\n",
    "                iii) tuples: thsi are immutable data type that can store any number of values of any data type\n",
    "3)dictionary: dictionaries are the key value pair data type in which we have keys and we assign certain values to \n",
    "              these keys, the way we have words and meanings in the dictionary\n",
    "4)sets:sets are similar to the sets that we have in mathematics and they can store non repititive values inside them \n",
    "\n",
    "EXAMPLE\n",
    "\"\"\"\n",
    "x_int=10 #int data type\n",
    "x_float=12.96 #float data type\n",
    "x_complex=3+2j #complex data type\n",
    "x_string=\"hello world!this is a string data type\" #string data type\n",
    "x_list=[\"15\",20,\"hello\",1] #list data type (mutable)\n",
    "x_tuples=(10,1,\"hello\") #tuples data type(Immutable)\n",
    "x_dict={\"name\":\"poornima\",\"college\":\"nitt\",\"course\":\"full stack data science\"}\n",
    "x_set={1,2,\"hello\"}"
   ]
  },
  {
   "cell_type": "code",
   "execution_count": 5,
   "id": "6450dcb2",
   "metadata": {},
   "outputs": [
    {
     "data": {
      "text/plain": [
       "set"
      ]
     },
     "execution_count": 5,
     "metadata": {},
     "output_type": "execute_result"
    }
   ],
   "source": [
    "s={1,2,\"hello\"}\n",
    "type(s) #Note that we can use type function to knowe the data type of a variable"
   ]
  },
  {
   "cell_type": "code",
   "execution_count": 6,
   "id": "ab0f2642",
   "metadata": {},
   "outputs": [
    {
     "data": {
      "text/plain": [
       "'QUES 4\\nAn expression is a combination of operators and operands that is interpreted to produce some other value.Python expressions\\nonly contain identifiers, literals, and operators. Expressions in python can be used to perform arithematics, comparision ,\\noperations and assignment. The various operators includes:\\n+,-,/,*,AND,OR,NOT,==,>,<,=,%,// and many more\\n'"
      ]
     },
     "execution_count": 6,
     "metadata": {},
     "output_type": "execute_result"
    }
   ],
   "source": [
    "\"\"\"QUES 4\n",
    "An expression is a combination of operators and operands that is interpreted to produce some other value.Python expressions\n",
    "only contain identifiers, literals, and operators. Expressions in python can be used to perform arithematics, comparision ,\n",
    "operations and assignment. The various operators includes:\n",
    "+,-,/,*,AND,OR,NOT,==,>,<,=,%,// and many more\n",
    "\"\"\""
   ]
  },
  {
   "cell_type": "code",
   "execution_count": 7,
   "id": "91a82a92",
   "metadata": {},
   "outputs": [
    {
     "name": "stdout",
     "output_type": "stream",
     "text": [
      "10\n"
     ]
    }
   ],
   "source": [
    "\"\"\"QUES 5\n",
    "STATEMENTS\n",
    "1) Statements are the instructions that python executes i.e it does whatever the statement says.\n",
    "2) A statement executes something\n",
    "3)Execution of a statement may or may not produces or displays a result value, it only does whatever the statement says.\n",
    "\n",
    "EXPRESSION\n",
    "1) An expression is a combination of operators and operands that is interpreted to produce some other value.\n",
    "2) An expression evaluates to a value \n",
    "3) Evaluation of an expression always Produces or returns a result value.\n",
    "\n",
    "EXAMPLE\n",
    "\"\"\"\n",
    "spam=10 #this is an assignment expression that use assgnment operator to assign value to 10\n",
    "print(spam) #print is a statement i.e a command that ask the python to print spam"
   ]
  },
  {
   "cell_type": "code",
   "execution_count": 8,
   "id": "36a9d21a",
   "metadata": {},
   "outputs": [
    {
     "data": {
      "text/plain": [
       "23"
      ]
     },
     "execution_count": 8,
     "metadata": {},
     "output_type": "execute_result"
    }
   ],
   "source": [
    "#QUES 6\n",
    "#the value will be equal to 23. let's check this by executing the code \n",
    "bacon=22\n",
    "bacon+1"
   ]
  },
  {
   "cell_type": "code",
   "execution_count": 10,
   "id": "ba670d6d",
   "metadata": {},
   "outputs": [
    {
     "name": "stdout",
     "output_type": "stream",
     "text": [
      "spamspamspam\n",
      "spamspamspam\n"
     ]
    }
   ],
   "source": [
    "\"\"\" QUES7\n",
    "\"spam\"+\"spamspam\" after concatination will give spamspamspam\n",
    "\"spam\"*3 will also give spamspamspam\n",
    "let us verify by executing the code\n",
    "\"\"\"\n",
    "print(\"spam\"+\"spamspam\")\n",
    "print(\"spam\"*3)"
   ]
  },
  {
   "cell_type": "code",
   "execution_count": 11,
   "id": "ef154631",
   "metadata": {},
   "outputs": [
    {
     "data": {
      "text/plain": [
       "' QUES8\\nA vairable name can be an alphabetical word but can nevr be a numeric value hence eggs is a valid \\nvariable name and 100 is invalid'"
      ]
     },
     "execution_count": 11,
     "metadata": {},
     "output_type": "execute_result"
    }
   ],
   "source": [
    "\"\"\" QUES8\n",
    "A vairable name can be an alphabetical word but can nevr be a numeric value hence eggs is a valid \n",
    "variable name and 100 is invalid\"\"\""
   ]
  },
  {
   "cell_type": "code",
   "execution_count": 21,
   "id": "e3bea422",
   "metadata": {},
   "outputs": [
    {
     "name": "stdout",
     "output_type": "stream",
     "text": [
      "24.5hello\n",
      "54\n",
      "54.0\n"
     ]
    }
   ],
   "source": [
    "\"\"\" QUES9\n",
    "int , float and str are th functions that can be used to get integer floating point number and \n",
    "string version of a value\n",
    "\n",
    "EXAMPLE\n",
    "\"\"\"\n",
    "a=\"54\"\n",
    "b=24.5\n",
    "print(str(b)+\"hello\") #concatination of only two string is possible and hence str(b) is a string\n",
    "print((int(a)))\n",
    "print(float(a))"
   ]
  },
  {
   "cell_type": "code",
   "execution_count": 22,
   "id": "0389c3d9",
   "metadata": {},
   "outputs": [
    {
     "data": {
      "text/plain": [
       "'i have eaten99burritos'"
      ]
     },
     "execution_count": 22,
     "metadata": {},
     "output_type": "execute_result"
    }
   ],
   "source": [
    "#QUES 10\n",
    "#concatination of only string is possible . we can not add int value to  a string. this error can be removed using typecasting\n",
    "\"i have eaten\"+str(99)+\"burritos\""
   ]
  },
  {
   "cell_type": "code",
   "execution_count": null,
   "id": "f61e1796",
   "metadata": {},
   "outputs": [],
   "source": []
  }
 ],
 "metadata": {
  "kernelspec": {
   "display_name": "Python 3 (ipykernel)",
   "language": "python",
   "name": "python3"
  },
  "language_info": {
   "codemirror_mode": {
    "name": "ipython",
    "version": 3
   },
   "file_extension": ".py",
   "mimetype": "text/x-python",
   "name": "python",
   "nbconvert_exporter": "python",
   "pygments_lexer": "ipython3",
   "version": "3.9.7"
  }
 },
 "nbformat": 4,
 "nbformat_minor": 5
}
